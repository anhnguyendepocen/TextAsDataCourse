{
 "cells": [
  {
   "cell_type": "markdown",
   "metadata": {},
   "source": [
    "# Text as Data Tutorial -- Intro to String Manipulation and Regular Expressions in Python\n",
    "\n",
    "This tutorial parallels a similar tutorial in R. In most cases, the task achieved is identical or very similar in both.\n",
    "\n",
    "Many string manipulation methods below are provided in base Python.  When we get to regular expressions, you'll need the \"re\" library."
   ]
  },
  {
   "cell_type": "markdown",
   "metadata": {},
   "source": [
    "The basic thing we want to manipulate are *strings*. These can be specified using double quotes (“) or single quotes (’):"
   ]
  },
  {
   "cell_type": "code",
   "execution_count": 8,
   "metadata": {
    "collapsed": false
   },
   "outputs": [
    {
     "data": {
      "text/plain": [
       "'Example STRING, with numbers (12, 15 and also 10.2)?!'"
      ]
     },
     "execution_count": 8,
     "metadata": {},
     "output_type": "execute_result"
    }
   ],
   "source": [
    "a_string = 'Example STRING, with numbers (12, 15 and also 10.2)?!'\n",
    "a_string"
   ]
  },
  {
   "cell_type": "markdown",
   "metadata": {},
   "source": [
    "It’s really a matter of style or convenience, but you might use one if your string actually contains the other:"
   ]
  },
  {
   "cell_type": "code",
   "execution_count": 9,
   "metadata": {
    "collapsed": false
   },
   "outputs": [
    {
     "data": {
      "text/plain": [
       "\"He asked, 'Why would you use double quotes?'\""
      ]
     },
     "execution_count": 9,
     "metadata": {},
     "output_type": "execute_result"
    }
   ],
   "source": [
    "my_double_quoted_string = \"He asked, 'Why would you use double quotes?'\"\n",
    "my_double_quoted_string"
   ]
  },
  {
   "cell_type": "markdown",
   "metadata": {},
   "source": [
    "You can still use either one if you like, using \\ (backslash) to tell Python to “escape” the next character. In the example below, the \\\" is saying, \" is part of the string, not the end of the string."
   ]
  },
  {
   "cell_type": "code",
   "execution_count": 5,
   "metadata": {
    "collapsed": false
   },
   "outputs": [
    {
     "data": {
      "text/plain": [
       "'She answered, \"Convenience, but you never really have to.\"'"
      ]
     },
     "execution_count": 5,
     "metadata": {},
     "output_type": "execute_result"
    }
   ],
   "source": [
    "my_string_with_double_quotes = \"She answered, \\\"Convenience, but you never really have to.\\\"\"\n",
    "my_string_with_double_quotes"
   ]
  },
  {
   "cell_type": "markdown",
   "metadata": {},
   "source": [
    "If you ever want to see how your string with escape characters displays when printed or (typically) in an editor, use print."
   ]
  },
  {
   "cell_type": "code",
   "execution_count": 10,
   "metadata": {
    "collapsed": false
   },
   "outputs": [
    {
     "name": "stdout",
     "output_type": "stream",
     "text": [
      "He asked, 'Why would you use double quotes?'\n"
     ]
    }
   ],
   "source": [
    "print(my_double_quoted_string)"
   ]
  },
  {
   "cell_type": "code",
   "execution_count": 11,
   "metadata": {
    "collapsed": false
   },
   "outputs": [
    {
     "name": "stdout",
     "output_type": "stream",
     "text": [
      "She answered, \"Convenience, but you never really have to.\"\n"
     ]
    }
   ],
   "source": [
    "print(my_string_with_double_quotes)"
   ]
  },
  {
   "cell_type": "markdown",
   "metadata": {},
   "source": [
    "This can get a little bit confusing. For example, since the backslash character tells Python to escape, to indicate an actual backslash character you have to backslash your backslashes:"
   ]
  },
  {
   "cell_type": "code",
   "execution_count": 12,
   "metadata": {
    "collapsed": false
   },
   "outputs": [
    {
     "data": {
      "text/plain": [
       "'To indicate a backslash, \\\\, you have to type two: \\\\\\\\. Just there, to indicate two backslashes, I had to type four: \\\\\\\\\\\\\\\\.'"
      ]
     },
     "execution_count": 12,
     "metadata": {},
     "output_type": "execute_result"
    }
   ],
   "source": [
    "a_string_with_backslashes = \"To indicate a backslash, \\\\, you have to type two: \\\\\\\\. Just there, to indicate two backslashes, I had to type four: \\\\\\\\\\\\\\\\.\"\n",
    "a_string_with_backslashes"
   ]
  },
  {
   "cell_type": "code",
   "execution_count": 13,
   "metadata": {
    "collapsed": false
   },
   "outputs": [
    {
     "name": "stdout",
     "output_type": "stream",
     "text": [
      "To indicate a backslash, \\, you have to type two: \\\\. Just there, to indicate two backslashes, I had to type four: \\\\\\\\.\n"
     ]
    }
   ],
   "source": [
    "print(a_string_with_backslashes)"
   ]
  },
  {
   "cell_type": "markdown",
   "metadata": {},
   "source": [
    "There are a number of special escape characters that are used to represent things like “control characters.” The most common are two that you’re already used to tapping a keyboard key for without expecting a character to appear on your screen: \\t (tab) and \\n (newline)."
   ]
  },
  {
   "cell_type": "code",
   "execution_count": 19,
   "metadata": {
    "collapsed": false
   },
   "outputs": [
    {
     "data": {
      "text/plain": [
       "'abc ABC 123\\t.!?\\\\(){}\\n  \\nthird line'"
      ]
     },
     "execution_count": 19,
     "metadata": {},
     "output_type": "execute_result"
    }
   ],
   "source": [
    "test_string = \"abc ABC 123\\t.!?\\\\(){}\\n  \\nthird line\"\n",
    "test_string"
   ]
  },
  {
   "cell_type": "code",
   "execution_count": 20,
   "metadata": {
    "collapsed": false
   },
   "outputs": [
    {
     "name": "stdout",
     "output_type": "stream",
     "text": [
      "abc ABC 123\t.!?\\(){}\n",
      "  \n",
      "third line\n"
     ]
    }
   ],
   "source": [
    "print(test_string)"
   ]
  },
  {
   "cell_type": "markdown",
   "metadata": {},
   "source": [
    "As with pretty much everything in Python, you can have a list of strings."
   ]
  },
  {
   "cell_type": "code",
   "execution_count": 22,
   "metadata": {
    "collapsed": false
   },
   "outputs": [
    {
     "data": {
      "text/plain": [
       "['abcde', '123', 'chicken of the sea']"
      ]
     },
     "execution_count": 22,
     "metadata": {},
     "output_type": "execute_result"
    }
   ],
   "source": [
    "a_list_of_strings = [\"abcde\", \"123\", \"chicken of the sea\"]\n",
    "a_list_of_strings"
   ]
  },
  {
   "cell_type": "markdown",
   "metadata": {},
   "source": [
    "In the R tutorial, we made use of a few collections of strings provided in base R or stringr. To make this comparable, we'll create or load these here.\n",
    "\n",
    "The letters of the alphabet are available as a basic string method."
   ]
  },
  {
   "cell_type": "code",
   "execution_count": 70,
   "metadata": {
    "collapsed": false
   },
   "outputs": [
    {
     "data": {
      "text/plain": [
       "'abcdefghijklmnopqrstuvwxyz'"
      ]
     },
     "execution_count": 70,
     "metadata": {},
     "output_type": "execute_result"
    }
   ],
   "source": [
    "# import string\n",
    "letters_string = string.ascii_lowercase\n",
    "letters_string"
   ]
  },
  {
   "cell_type": "code",
   "execution_count": 71,
   "metadata": {
    "collapsed": false
   },
   "outputs": [
    {
     "data": {
      "text/plain": [
       "['a',\n",
       " 'b',\n",
       " 'c',\n",
       " 'd',\n",
       " 'e',\n",
       " 'f',\n",
       " 'g',\n",
       " 'h',\n",
       " 'i',\n",
       " 'j',\n",
       " 'k',\n",
       " 'l',\n",
       " 'm',\n",
       " 'n',\n",
       " 'o',\n",
       " 'p',\n",
       " 'q',\n",
       " 'r',\n",
       " 's',\n",
       " 't',\n",
       " 'u',\n",
       " 'v',\n",
       " 'w',\n",
       " 'x',\n",
       " 'y',\n",
       " 'z']"
      ]
     },
     "execution_count": 71,
     "metadata": {},
     "output_type": "execute_result"
    }
   ],
   "source": [
    "letters_list = list(letters_string)\n",
    "letters_list"
   ]
  },
  {
   "cell_type": "code",
   "execution_count": 72,
   "metadata": {
    "collapsed": false
   },
   "outputs": [
    {
     "data": {
      "text/plain": [
       "'ABCDEFGHIJKLMNOPQRSTUVWXYZ'"
      ]
     },
     "execution_count": 72,
     "metadata": {},
     "output_type": "execute_result"
    }
   ],
   "source": [
    "LETTERS_string = string.ascii_uppercase\n",
    "LETTERS_string"
   ]
  },
  {
   "cell_type": "code",
   "execution_count": 73,
   "metadata": {
    "collapsed": false
   },
   "outputs": [
    {
     "data": {
      "text/plain": [
       "['A',\n",
       " 'B',\n",
       " 'C',\n",
       " 'D',\n",
       " 'E',\n",
       " 'F',\n",
       " 'G',\n",
       " 'H',\n",
       " 'I',\n",
       " 'J',\n",
       " 'K',\n",
       " 'L',\n",
       " 'M',\n",
       " 'N',\n",
       " 'O',\n",
       " 'P',\n",
       " 'Q',\n",
       " 'R',\n",
       " 'S',\n",
       " 'T',\n",
       " 'U',\n",
       " 'V',\n",
       " 'W',\n",
       " 'X',\n",
       " 'Y',\n",
       " 'Z']"
      ]
     },
     "execution_count": 73,
     "metadata": {},
     "output_type": "execute_result"
    }
   ],
   "source": [
    "LETTERS_list = list(LETTERS_string)\n",
    "LETTERS_list"
   ]
  },
  {
   "cell_type": "markdown",
   "metadata": {},
   "source": [
    "We'll just make the month lists."
   ]
  },
  {
   "cell_type": "code",
   "execution_count": 30,
   "metadata": {
    "collapsed": false
   },
   "outputs": [
    {
     "data": {
      "text/plain": [
       "['Jan',\n",
       " 'Feb',\n",
       " 'Mar',\n",
       " 'Apr',\n",
       " 'May',\n",
       " 'Jun',\n",
       " 'Jul',\n",
       " 'Aug',\n",
       " 'Sep',\n",
       " 'Oct',\n",
       " 'Nov',\n",
       " 'Dec']"
      ]
     },
     "execution_count": 30,
     "metadata": {},
     "output_type": "execute_result"
    }
   ],
   "source": [
    "month_abb = [\"Jan\", \"Feb\", \"Mar\", \"Apr\", \"May\", \"Jun\", \"Jul\", \"Aug\", \"Sep\", \"Oct\", \"Nov\", \"Dec\"]\n",
    "month_abb"
   ]
  },
  {
   "cell_type": "code",
   "execution_count": 32,
   "metadata": {
    "collapsed": false
   },
   "outputs": [
    {
     "data": {
      "text/plain": [
       "['January',\n",
       " 'February',\n",
       " 'March',\n",
       " 'April',\n",
       " 'May',\n",
       " 'June',\n",
       " 'July',\n",
       " 'August',\n",
       " 'September',\n",
       " 'October',\n",
       " 'November',\n",
       " 'December']"
      ]
     },
     "execution_count": 32,
     "metadata": {},
     "output_type": "execute_result"
    }
   ],
   "source": [
    "month_name = [\"January\", \"February\", \"March\", \"April\", \"May\", \"June\", \"July\", \"August\", \"September\", \"October\", \"November\", \"December\"]\n",
    "month_name"
   ]
  },
  {
   "cell_type": "code",
   "execution_count": 109,
   "metadata": {
    "collapsed": false
   },
   "outputs": [
    {
     "name": "stdout",
     "output_type": "stream",
     "text": [
      "['apple', 'apricot', 'avocado', 'banana', 'bell pepper', 'bilberry', 'blackberry', 'blackcurrant', 'blood orange', 'blueberry', 'boysenberry', 'breadfruit', 'canary melon', 'cantaloupe', 'cherimoya', 'cherry', 'chili pepper', 'clementine', 'cloudberry', 'coconut', 'cranberry', 'cucumber', 'currant', 'damson', 'date', 'dragonfruit', 'durian', 'eggplant', 'elderberry', 'feijoa', 'fig', 'goji berry', 'gooseberry', 'grape', 'grapefruit', 'guava', 'honeydew', 'huckleberry', 'jackfruit', 'jambul', 'jujube', 'kiwi fruit', 'kumquat', 'lemon', 'lime', 'loquat', 'lychee', 'mandarine', 'mango', 'mulberry', 'nectarine', 'nut', 'olive', 'orange', 'pamelo', 'papaya', 'passionfruit', 'peach', 'pear', 'persimmon', 'physalis', 'pineapple', 'plum', 'pomegranate', 'pomelo', 'purple mangosteen', 'quince', 'raisin', 'rambutan', 'raspberry', 'redcurrant', 'rock melon', 'salal berry', 'satsuma', 'star fruit', 'strawberry', 'tamarillo', 'tangerine', 'ugli fruit', 'watermelon']\n"
     ]
    }
   ],
   "source": [
    "# REQUIRES file \"fruit.txt\" be in the same directory\n",
    "fruitfile = open(\"fruit.txt\",\"r\")\n",
    "fruit = fruitfile.read().splitlines()\n",
    "print(fruit)"
   ]
  },
  {
   "cell_type": "code",
   "execution_count": 39,
   "metadata": {
    "collapsed": false
   },
   "outputs": [
    {
     "data": {
      "text/plain": [
       "980"
      ]
     },
     "execution_count": 39,
     "metadata": {},
     "output_type": "execute_result"
    }
   ],
   "source": [
    "# REQUIRES file \"words.txt\" be in the same directory\n",
    "wordsfile = open(\"words.txt\",\"r\")\n",
    "words = wordsfile.read().splitlines()\n",
    "len(words)"
   ]
  },
  {
   "cell_type": "markdown",
   "metadata": {},
   "source": [
    "The word list is long, so let's just look at the top 5. \n",
    "\n",
    "(A couple things for R users here. First, Python starts counting at 0 not 1. So, in R `words[0]` is an error, `words[1]` is \"a\", and `words[5]` is \"accept\"; in Python, `words[0]` is \"a\", `words[1]` is \"able\", and `words[5]` is an \"account\". Second, the \"slicing\" notation in Python is also weird if you're used to R. In R, to get the first five members, you ask for item 1 through item 5:`words[1:5]`. In Python, you might imagine the list members sitting on a number line that puts the first list member between 0 and 1, the second between 1 and 2m and so on. Then to get the first 5 members of the list, we need to ask for the slice between \"0\" just to the \"left\" of the slice and \"5\" at the \"right\" of the stuff we want: `words[0:5]`. "
   ]
  },
  {
   "cell_type": "code",
   "execution_count": 38,
   "metadata": {
    "collapsed": false
   },
   "outputs": [
    {
     "data": {
      "text/plain": [
       "['a', 'able', 'about', 'absolute', 'accept']"
      ]
     },
     "execution_count": 38,
     "metadata": {},
     "output_type": "execute_result"
    }
   ],
   "source": [
    "words[0:5]"
   ]
  },
  {
   "cell_type": "code",
   "execution_count": 40,
   "metadata": {
    "collapsed": false
   },
   "outputs": [
    {
     "data": {
      "text/plain": [
       "'account'"
      ]
     },
     "execution_count": 40,
     "metadata": {},
     "output_type": "execute_result"
    }
   ],
   "source": [
    "words[5]"
   ]
  },
  {
   "cell_type": "markdown",
   "metadata": {},
   "source": [
    "The sentences list is also long."
   ]
  },
  {
   "cell_type": "code",
   "execution_count": 149,
   "metadata": {
    "collapsed": false
   },
   "outputs": [
    {
     "data": {
      "text/plain": [
       "720"
      ]
     },
     "execution_count": 149,
     "metadata": {},
     "output_type": "execute_result"
    }
   ],
   "source": [
    "# REQUIRES file \"sentences.txt\" be in the same directory\n",
    "sentencesfile = open(\"sentences.txt\",\"r\")\n",
    "sentences = sentencesfile.read().splitlines()\n",
    "len(sentences)"
   ]
  },
  {
   "cell_type": "code",
   "execution_count": 150,
   "metadata": {
    "collapsed": false
   },
   "outputs": [
    {
     "data": {
      "text/plain": [
       "['The birch canoe slid on the smooth planks.',\n",
       " 'Glue the sheet to the dark blue background.',\n",
       " \"It's easy to tell the depth of a well.\",\n",
       " 'These days a chicken leg is a rare dish.',\n",
       " 'Rice is often served in round bowls.']"
      ]
     },
     "execution_count": 150,
     "metadata": {},
     "output_type": "execute_result"
    }
   ],
   "source": [
    "sentences[0:5]"
   ]
  },
  {
   "cell_type": "markdown",
   "metadata": {
    "collapsed": true
   },
   "source": [
    "## Manipulating strings\n",
    "\n",
    "You can combine, or “concatenate”, strings very naturally using the \"+\" sign."
   ]
  },
  {
   "cell_type": "code",
   "execution_count": 44,
   "metadata": {
    "collapsed": false
   },
   "outputs": [
    {
     "data": {
      "text/plain": [
       "'Example STRING, with numbers (12, 15 and also 10.2)?! Wow, two sentences.'"
      ]
     },
     "execution_count": 44,
     "metadata": {},
     "output_type": "execute_result"
    }
   ],
   "source": [
    "second_string = \"Wow, two sentences.\"\n",
    "combined_string = a_string + \" \" + second_string\n",
    "combined_string"
   ]
  },
  {
   "cell_type": "markdown",
   "metadata": {},
   "source": [
    "You can also combine lists of strings by a separator using the \"join\" method. To again join the two strings above separated by a space, place the strings to be joined in a *list* by using square brackets, and the separator in a string and use the syntax *sep*`.join(`*list*`)`:"
   ]
  },
  {
   "cell_type": "code",
   "execution_count": 49,
   "metadata": {
    "collapsed": false
   },
   "outputs": [
    {
     "data": {
      "text/plain": [
       "'Example STRING, with numbers (12, 15 and also 10.2)?! Wow, two sentences.'"
      ]
     },
     "execution_count": 49,
     "metadata": {},
     "output_type": "execute_result"
    }
   ],
   "source": [
    "\" \".join([a_string,second_string]) "
   ]
  },
  {
   "cell_type": "markdown",
   "metadata": {},
   "source": [
    "Note that \"join\" takes a list of strings of *any* length and concatenates *all* the strings together with the separator."
   ]
  },
  {
   "cell_type": "code",
   "execution_count": 75,
   "metadata": {
    "collapsed": false
   },
   "outputs": [
    {
     "data": {
      "text/plain": [
       "'January then February then March then April then May then June then July then August then September then October then November then December'"
      ]
     },
     "execution_count": 75,
     "metadata": {},
     "output_type": "execute_result"
    }
   ],
   "source": [
    "\" then \".join(month_name)"
   ]
  },
  {
   "cell_type": "markdown",
   "metadata": {},
   "source": [
    "In the R notebook, we next created a new vector of strings concatenating the month vectors into strings like \"Jan stands for January\". Python doesn't have the element-by-element \"vectorized\" syntax R does, so we have to more explicitly *iterate* over the elements to do this here. There are a several ways to do this.\n",
    "\n",
    "The most straightforward to understand, but not very \"Pythonic\", way is to do this in a for loop:"
   ]
  },
  {
   "cell_type": "code",
   "execution_count": 57,
   "metadata": {
    "collapsed": false
   },
   "outputs": [
    {
     "data": {
      "text/plain": [
       "['Jan stands for January',\n",
       " 'Feb stands for February',\n",
       " 'Mar stands for March',\n",
       " 'Apr stands for April',\n",
       " 'May stands for May',\n",
       " 'Jun stands for June',\n",
       " 'Jul stands for July',\n",
       " 'Aug stands for August',\n",
       " 'Sep stands for September',\n",
       " 'Oct stands for October',\n",
       " 'Nov stands for November',\n",
       " 'Dec stands for December']"
      ]
     },
     "execution_count": 57,
     "metadata": {},
     "output_type": "execute_result"
    }
   ],
   "source": [
    "month_explanations = []\n",
    "for i in range(12):\n",
    "    new_string = \" stands for \".join([month_abb[i], month_name[i]])\n",
    "    month_explanations.append(new_string)\n",
    "month_explanations"
   ]
  },
  {
   "cell_type": "markdown",
   "metadata": {},
   "source": [
    "There are more compact, Pythonic ways to do this. One is to use the \"zip\" function which creates an \"iterator\" of \"tuples\" element by element and then iterate over that. Let's look inside the zip function first by making a list of the zipped elements:"
   ]
  },
  {
   "cell_type": "code",
   "execution_count": 58,
   "metadata": {
    "collapsed": false
   },
   "outputs": [
    {
     "data": {
      "text/plain": [
       "[('Jan', 'January'),\n",
       " ('Feb', 'February'),\n",
       " ('Mar', 'March'),\n",
       " ('Apr', 'April'),\n",
       " ('May', 'May'),\n",
       " ('Jun', 'June'),\n",
       " ('Jul', 'July'),\n",
       " ('Aug', 'August'),\n",
       " ('Sep', 'September'),\n",
       " ('Oct', 'October'),\n",
       " ('Nov', 'November'),\n",
       " ('Dec', 'December')]"
      ]
     },
     "execution_count": 58,
     "metadata": {},
     "output_type": "execute_result"
    }
   ],
   "source": [
    "list(zip(month_abb, month_name))"
   ]
  },
  {
   "cell_type": "markdown",
   "metadata": {},
   "source": [
    "Not quite what we want, but we can join those tuples as we iterate over the zip object using a \"list comprehension\":"
   ]
  },
  {
   "cell_type": "code",
   "execution_count": 59,
   "metadata": {
    "collapsed": false
   },
   "outputs": [
    {
     "data": {
      "text/plain": [
       "['Jan stands for January',\n",
       " 'Feb stands for February',\n",
       " 'Mar stands for March',\n",
       " 'Apr stands for April',\n",
       " 'May stands for May',\n",
       " 'Jun stands for June',\n",
       " 'Jul stands for July',\n",
       " 'Aug stands for August',\n",
       " 'Sep stands for September',\n",
       " 'Oct stands for October',\n",
       " 'Nov stands for November',\n",
       " 'Dec stands for December']"
      ]
     },
     "execution_count": 59,
     "metadata": {},
     "output_type": "execute_result"
    }
   ],
   "source": [
    "[\" stands for \".join([abbrev,name]) for abbrev,name in zip(month_abb, month_name)]"
   ]
  },
  {
   "cell_type": "markdown",
   "metadata": {},
   "source": [
    "The \"list comprehension\" is defined by those square brackets on the outside (making it a list) and the \"for loop\"-like instruction inside. \n",
    "\n",
    "There are many ways to do the same thing. For example, we can change the string manipulation operation that gets repeated from the join method to the format method:"
   ]
  },
  {
   "cell_type": "code",
   "execution_count": 60,
   "metadata": {
    "collapsed": false
   },
   "outputs": [
    {
     "data": {
      "text/plain": [
       "['Jan stands for January',\n",
       " 'Feb stands for February',\n",
       " 'Mar stands for March',\n",
       " 'Apr stands for April',\n",
       " 'May stands for May',\n",
       " 'Jun stands for June',\n",
       " 'Jul stands for July',\n",
       " 'Aug stands for August',\n",
       " 'Sep stands for September',\n",
       " 'Oct stands for October',\n",
       " 'Nov stands for November',\n",
       " 'Dec stands for December']"
      ]
     },
     "execution_count": 60,
     "metadata": {},
     "output_type": "execute_result"
    }
   ],
   "source": [
    "[\"{} stands for {}\".format(abbrev,name) for abbrev,name in zip(month_abb, month_name)]"
   ]
  },
  {
   "cell_type": "markdown",
   "metadata": {},
   "source": [
    "The join/zip idiom works for the letters example in the other notebook as well:"
   ]
  },
  {
   "cell_type": "code",
   "execution_count": 89,
   "metadata": {
    "collapsed": false
   },
   "outputs": [
    {
     "name": "stdout",
     "output_type": "stream",
     "text": [
      "['aA', 'bB', 'cC', 'dD', 'eE', 'fF', 'gG', 'hH', 'iI', 'jJ', 'kK', 'lL', 'mM', 'nN', 'oO', 'pP', 'qQ', 'rR', 'sS', 'tT', 'uU', 'vV', 'wW', 'xX', 'yY', 'zZ']\n"
     ]
    }
   ],
   "source": [
    "letterpairs = [\"\".join([lower,upper]) for lower, upper in zip(letters_list, LETTERS_list)]\n",
    "print(letterpairs)"
   ]
  },
  {
   "cell_type": "markdown",
   "metadata": {},
   "source": [
    "You can zip two lists together, concatenate those element by element, and then join them by a separator."
   ]
  },
  {
   "cell_type": "code",
   "execution_count": 77,
   "metadata": {
    "collapsed": false
   },
   "outputs": [
    {
     "data": {
      "text/plain": [
       "'January (Jan) then February (Feb) then March (Mar) then April (Apr) then May (May) then June (Jun) then July (Jul) then August (Aug) then September (Sep) then October (Oct) then November (Nov) then December (Dec)'"
      ]
     },
     "execution_count": 77,
     "metadata": {},
     "output_type": "execute_result"
    }
   ],
   "source": [
    "\" then \".join([\"{} ({})\".format(name,abbrev) for name,abbrev in zip(month_name,month_abb)])"
   ]
  },
  {
   "cell_type": "markdown",
   "metadata": {},
   "source": [
    "You can split up a string into pieces, based on a pattern, with the \"split\" method."
   ]
  },
  {
   "cell_type": "code",
   "execution_count": 78,
   "metadata": {
    "collapsed": false
   },
   "outputs": [
    {
     "data": {
      "text/plain": [
       "['Example STRING, with numbers (12, 15 and also 10.2)?',\n",
       " ' Wow, two sentences.']"
      ]
     },
     "execution_count": 78,
     "metadata": {},
     "output_type": "execute_result"
    }
   ],
   "source": [
    "combined_string.split(\"!\")"
   ]
  },
  {
   "cell_type": "markdown",
   "metadata": {},
   "source": [
    "## Substrings (Slices)"
   ]
  },
  {
   "cell_type": "markdown",
   "metadata": {},
   "source": [
    "Substrings are just slices in Python. To get a list of the second through fourth character in each fruit name:"
   ]
  },
  {
   "cell_type": "code",
   "execution_count": 88,
   "metadata": {
    "collapsed": false
   },
   "outputs": [
    {
     "name": "stdout",
     "output_type": "stream",
     "text": [
      "['ppl', 'pri', 'voc', 'ana', 'ell', 'ilb', 'lac', 'lac', 'loo', 'lue', 'oys', 'rea', 'ana', 'ant', 'her', 'her', 'hil', 'lem', 'lou', 'oco', 'ran', 'ucu', 'urr', 'ams', 'ate', 'rag', 'uri', 'ggp', 'lde', 'eij', 'ig', 'oji', 'oos', 'rap', 'rap', 'uav', 'one', 'uck', 'ack', 'amb', 'uju', 'iwi', 'umq', 'emo', 'ime', 'oqu', 'ych', 'and', 'ang', 'ulb', 'ect', 'ut', 'liv', 'ran', 'ame', 'apa', 'ass', 'eac', 'ear', 'ers', 'hys', 'ine', 'lum', 'ome', 'ome', 'urp', 'uin', 'ais', 'amb', 'asp', 'edc', 'ock', 'ala', 'ats', 'tar', 'tra', 'ama', 'ang', 'gli', 'ate']\n"
     ]
    }
   ],
   "source": [
    "substringfromfruit = [eachfruit[1:4] for eachfruit in fruit]\n",
    "print(substringfromfruit)"
   ]
  },
  {
   "cell_type": "markdown",
   "metadata": {},
   "source": [
    "Substrings from the end of the string can be accessed by slices using negative numbers. "
   ]
  },
  {
   "cell_type": "code",
   "execution_count": 87,
   "metadata": {
    "collapsed": false
   },
   "outputs": [
    {
     "name": "stdout",
     "output_type": "stream",
     "text": [
      "['pl', 'co', 'ad', 'an', 'pe', 'rr', 'rr', 'an', 'ng', 'rr', 'rr', 'ui', 'lo', 'up', 'oy', 'rr', 'pe', 'in', 'rr', 'nu', 'rr', 'be', 'an', 'so', 'at', 'ui', 'ia', 'an', 'rr', 'jo', 'fi', 'rr', 'rr', 'ap', 'ui', 'av', 'de', 'rr', 'ui', 'bu', 'ub', 'ui', 'ua', 'mo', 'im', 'ua', 'he', 'in', 'ng', 'rr', 'in', 'nu', 'iv', 'ng', 'el', 'ay', 'ui', 'ac', 'ea', 'mo', 'li', 'pl', 'lu', 'at', 'el', 'ee', 'nc', 'si', 'ta', 'rr', 'an', 'lo', 'rr', 'um', 'ui', 'rr', 'll', 'in', 'ui', 'lo']\n"
     ]
    }
   ],
   "source": [
    "subfromend = [eachfruit[-3:-1] for eachfruit in fruit]\n",
    "print(subfromend)"
   ]
  },
  {
   "cell_type": "markdown",
   "metadata": {},
   "source": [
    "You can use slicing to extract data from strings:"
   ]
  },
  {
   "cell_type": "code",
   "execution_count": 86,
   "metadata": {
    "collapsed": false
   },
   "outputs": [
    {
     "name": "stdout",
     "output_type": "stream",
     "text": [
      "['1999', '1998', '2001']\n"
     ]
    }
   ],
   "source": [
    "some_dates = [\"1999/01/01\",\"1998/12/15\",\"2001/09/03\"]\n",
    "years = [date[0:4] for date in some_dates]\n",
    "print(years)"
   ]
  },
  {
   "cell_type": "code",
   "execution_count": 90,
   "metadata": {
    "collapsed": false
   },
   "outputs": [
    {
     "name": "stdout",
     "output_type": "stream",
     "text": [
      "['01', '12', '09']\n"
     ]
    }
   ],
   "source": [
    "months = [date[5:7] for date in some_dates]\n",
    "print(months)"
   ]
  },
  {
   "cell_type": "markdown",
   "metadata": {},
   "source": [
    "Getting a copy of a string with specific positions replaced is also a matter of slicing:"
   ]
  },
  {
   "cell_type": "code",
   "execution_count": 94,
   "metadata": {
    "collapsed": false
   },
   "outputs": [
    {
     "data": {
      "text/plain": [
       "'a--!ZEBRA!--le'"
      ]
     },
     "execution_count": 94,
     "metadata": {},
     "output_type": "execute_result"
    }
   ],
   "source": [
    "apple = \"apple\"\n",
    "zebra = \"--!ZEBRA!--\"\n",
    "zebraapple = apple[0:1] + zebra + apple[3:]\n",
    "zebraapple"
   ]
  },
  {
   "cell_type": "markdown",
   "metadata": {},
   "source": [
    "Replicating the R result over the whole list can be done by putting within a list comprehension."
   ]
  },
  {
   "cell_type": "code",
   "execution_count": 95,
   "metadata": {
    "collapsed": false
   },
   "outputs": [
    {
     "name": "stdout",
     "output_type": "stream",
     "text": [
      "['a--!ZEBRA!--le', 'a--!ZEBRA!--icot', 'a--!ZEBRA!--cado', 'b--!ZEBRA!--ana', 'b--!ZEBRA!--l pepper', 'b--!ZEBRA!--berry', 'b--!ZEBRA!--ckberry', 'b--!ZEBRA!--ckcurrant', 'b--!ZEBRA!--od orange', 'b--!ZEBRA!--eberry', 'b--!ZEBRA!--senberry', 'b--!ZEBRA!--adfruit', 'c--!ZEBRA!--ary melon', 'c--!ZEBRA!--taloupe', 'c--!ZEBRA!--rimoya', 'c--!ZEBRA!--rry', 'c--!ZEBRA!--li pepper', 'c--!ZEBRA!--mentine', 'c--!ZEBRA!--udberry', 'c--!ZEBRA!--onut', 'c--!ZEBRA!--nberry', 'c--!ZEBRA!--umber', 'c--!ZEBRA!--rant', 'd--!ZEBRA!--son', 'd--!ZEBRA!--e', 'd--!ZEBRA!--gonfruit', 'd--!ZEBRA!--ian', 'e--!ZEBRA!--plant', 'e--!ZEBRA!--erberry', 'f--!ZEBRA!--joa', 'f--!ZEBRA!--', 'g--!ZEBRA!--i berry', 'g--!ZEBRA!--seberry', 'g--!ZEBRA!--pe', 'g--!ZEBRA!--pefruit', 'g--!ZEBRA!--va', 'h--!ZEBRA!--eydew', 'h--!ZEBRA!--kleberry', 'j--!ZEBRA!--kfruit', 'j--!ZEBRA!--bul', 'j--!ZEBRA!--ube', 'k--!ZEBRA!--i fruit', 'k--!ZEBRA!--quat', 'l--!ZEBRA!--on', 'l--!ZEBRA!--e', 'l--!ZEBRA!--uat', 'l--!ZEBRA!--hee', 'm--!ZEBRA!--darine', 'm--!ZEBRA!--go', 'm--!ZEBRA!--berry', 'n--!ZEBRA!--tarine', 'n--!ZEBRA!--', 'o--!ZEBRA!--ve', 'o--!ZEBRA!--nge', 'p--!ZEBRA!--elo', 'p--!ZEBRA!--aya', 'p--!ZEBRA!--sionfruit', 'p--!ZEBRA!--ch', 'p--!ZEBRA!--r', 'p--!ZEBRA!--simmon', 'p--!ZEBRA!--salis', 'p--!ZEBRA!--eapple', 'p--!ZEBRA!--m', 'p--!ZEBRA!--egranate', 'p--!ZEBRA!--elo', 'p--!ZEBRA!--ple mangosteen', 'q--!ZEBRA!--nce', 'r--!ZEBRA!--sin', 'r--!ZEBRA!--butan', 'r--!ZEBRA!--pberry', 'r--!ZEBRA!--currant', 'r--!ZEBRA!--k melon', 's--!ZEBRA!--al berry', 's--!ZEBRA!--suma', 's--!ZEBRA!--r fruit', 's--!ZEBRA!--awberry', 't--!ZEBRA!--arillo', 't--!ZEBRA!--gerine', 'u--!ZEBRA!--i fruit', 'w--!ZEBRA!--ermelon']\n"
     ]
    }
   ],
   "source": [
    "zebrafruit = [fr[0:1] + zebra + fr[3:] for fr in fruit]\n",
    "print(zebrafruit)"
   ]
  },
  {
   "cell_type": "markdown",
   "metadata": {},
   "source": [
    "Strings have a simple casefolding method that can be applied:"
   ]
  },
  {
   "cell_type": "code",
   "execution_count": 96,
   "metadata": {
    "collapsed": false
   },
   "outputs": [
    {
     "data": {
      "text/plain": [
       "'example string, with numbers (12, 15 and also 10.2)?! wow, two sentences.'"
      ]
     },
     "execution_count": 96,
     "metadata": {},
     "output_type": "execute_result"
    }
   ],
   "source": [
    "combined_string.lower()"
   ]
  },
  {
   "cell_type": "code",
   "execution_count": 97,
   "metadata": {
    "collapsed": false
   },
   "outputs": [
    {
     "data": {
      "text/plain": [
       "'EXAMPLE STRING, WITH NUMBERS (12, 15 AND ALSO 10.2)?! WOW, TWO SENTENCES.'"
      ]
     },
     "execution_count": 97,
     "metadata": {},
     "output_type": "execute_result"
    }
   ],
   "source": [
    "combined_string.upper()"
   ]
  },
  {
   "cell_type": "markdown",
   "metadata": {},
   "source": [
    "Also several to trim excess white space *off the ends* of strings:"
   ]
  },
  {
   "cell_type": "code",
   "execution_count": 102,
   "metadata": {
    "collapsed": false
   },
   "outputs": [
    {
     "data": {
      "text/plain": [
       "'Why   so much  space?'"
      ]
     },
     "execution_count": 102,
     "metadata": {},
     "output_type": "execute_result"
    }
   ],
   "source": [
    "lotsofspace = '   Why   so much  space?   '\n",
    "lotsofspace.strip()"
   ]
  },
  {
   "cell_type": "code",
   "execution_count": 100,
   "metadata": {
    "collapsed": false
   },
   "outputs": [
    {
     "data": {
      "text/plain": [
       "'Why   so much  space?   '"
      ]
     },
     "execution_count": 100,
     "metadata": {},
     "output_type": "execute_result"
    }
   ],
   "source": [
    "lotsofspace.lstrip()"
   ]
  },
  {
   "cell_type": "code",
   "execution_count": 101,
   "metadata": {
    "collapsed": false
   },
   "outputs": [
    {
     "data": {
      "text/plain": [
       "'   Why   so much  space?'"
      ]
     },
     "execution_count": 101,
     "metadata": {},
     "output_type": "execute_result"
    }
   ],
   "source": [
    "lotsofspace.rstrip()"
   ]
  },
  {
   "cell_type": "markdown",
   "metadata": {},
   "source": [
    "## Matching substrings\n",
    "\n",
    "If we're looking for specific substrings, there are string methods to do that."
   ]
  },
  {
   "cell_type": "code",
   "execution_count": 113,
   "metadata": {
    "collapsed": false
   },
   "outputs": [
    {
     "data": {
      "text/plain": [
       "5"
      ]
     },
     "execution_count": 113,
     "metadata": {},
     "output_type": "execute_result"
    }
   ],
   "source": [
    "\"strawberry\".find(\"berry\")"
   ]
  },
  {
   "cell_type": "markdown",
   "metadata": {},
   "source": [
    "That returns the position of the first match. If there is no match, find returns a value of -1."
   ]
  },
  {
   "cell_type": "code",
   "execution_count": 116,
   "metadata": {
    "collapsed": false
   },
   "outputs": [
    {
     "data": {
      "text/plain": [
       "-1"
      ]
     },
     "execution_count": 116,
     "metadata": {},
     "output_type": "execute_result"
    }
   ],
   "source": [
    "\"apple\".find(\"berry\")"
   ]
  },
  {
   "cell_type": "markdown",
   "metadata": {},
   "source": [
    "If there are multiple matches, find returns the position of the first match."
   ]
  },
  {
   "cell_type": "code",
   "execution_count": 117,
   "metadata": {
    "collapsed": false
   },
   "outputs": [
    {
     "data": {
      "text/plain": [
       "0"
      ]
     },
     "execution_count": 117,
     "metadata": {},
     "output_type": "execute_result"
    }
   ],
   "source": [
    "\"berryberryboberrybananafanafoferrymemymomerry berry\".find(\"berry\")"
   ]
  },
  {
   "cell_type": "markdown",
   "metadata": {},
   "source": [
    "We can usr this in a list comprehension, with the addition of an \"if\" condition, to extract a list of all matching fruits."
   ]
  },
  {
   "cell_type": "code",
   "execution_count": 119,
   "metadata": {
    "collapsed": false
   },
   "outputs": [
    {
     "data": {
      "text/plain": [
       "['bilberry',\n",
       " 'blackberry',\n",
       " 'blueberry',\n",
       " 'boysenberry',\n",
       " 'cloudberry',\n",
       " 'cranberry',\n",
       " 'elderberry',\n",
       " 'goji berry',\n",
       " 'gooseberry',\n",
       " 'huckleberry',\n",
       " 'mulberry',\n",
       " 'raspberry',\n",
       " 'salal berry',\n",
       " 'strawberry']"
      ]
     },
     "execution_count": 119,
     "metadata": {},
     "output_type": "execute_result"
    }
   ],
   "source": [
    "[fr for fr in fruit if fr.find(\"berry\")> -1]"
   ]
  },
  {
   "cell_type": "markdown",
   "metadata": {},
   "source": [
    "We can get a copy of the string with the substring replaced with something else:"
   ]
  },
  {
   "cell_type": "code",
   "execution_count": 120,
   "metadata": {
    "collapsed": false
   },
   "outputs": [
    {
     "data": {
      "text/plain": [
       "'strawfish'"
      ]
     },
     "execution_count": 120,
     "metadata": {},
     "output_type": "execute_result"
    }
   ],
   "source": [
    "\"strawberry\".replace(\"berry\",\"fish\")"
   ]
  },
  {
   "cell_type": "code",
   "execution_count": 121,
   "metadata": {
    "collapsed": false
   },
   "outputs": [
    {
     "name": "stdout",
     "output_type": "stream",
     "text": [
      "['apple', 'apricot', 'avocado', 'banana', 'bell pepper', 'bilfish', 'blackfish', 'blackcurrant', 'blood orange', 'bluefish', 'boysenfish', 'breadfruit', 'canary melon', 'cantaloupe', 'cherimoya', 'cherry', 'chili pepper', 'clementine', 'cloudfish', 'coconut', 'cranfish', 'cucumber', 'currant', 'damson', 'date', 'dragonfruit', 'durian', 'eggplant', 'elderfish', 'feijoa', 'fig', 'goji fish', 'goosefish', 'grape', 'grapefruit', 'guava', 'honeydew', 'hucklefish', 'jackfruit', 'jambul', 'jujube', 'kiwi fruit', 'kumquat', 'lemon', 'lime', 'loquat', 'lychee', 'mandarine', 'mango', 'mulfish', 'nectarine', 'nut', 'olive', 'orange', 'pamelo', 'papaya', 'passionfruit', 'peach', 'pear', 'persimmon', 'physalis', 'pineapple', 'plum', 'pomegranate', 'pomelo', 'purple mangosteen', 'quince', 'raisin', 'rambutan', 'raspfish', 'redcurrant', 'rock melon', 'salal fish', 'satsuma', 'star fruit', 'strawfish', 'tamarillo', 'tangerine', 'ugli fruit', 'watermelon']\n"
     ]
    }
   ],
   "source": [
    "fishfruit = [fr.replace(\"berry\",\"fish\") for fr in fruit]\n",
    "print(fishfruit)"
   ]
  },
  {
   "cell_type": "markdown",
   "metadata": {},
   "source": [
    "## Searching for patterns with regular expressions\n",
    "\n",
    "So far, I’ve only searched for patterns that are only alphabetic characters like \"berry\". But we can use make much more elaborate and flexible patterns using regular expressions. For this we need to import the \"re\" module.\n",
    "\n",
    "I recommend you reference the cheat sheet and the online regex tool https://regex101.com in parallel.\n",
    "\n",
    "Regular expressions work a little differently in Python than in R.\n",
    "\n",
    "Square brackets for “or” (disjunction) of characters. Match “any one of” the characters in the square brackets.\n",
    "str_subset(sentences, ' [bhp]eat ')\n",
    "\n",
    "Just for comparison's sake, let's start with a search for the same pattern as above: \"berry\"."
   ]
  },
  {
   "cell_type": "code",
   "execution_count": 123,
   "metadata": {
    "collapsed": false
   },
   "outputs": [
    {
     "data": {
      "text/plain": [
       "<re.Match object; span=(5, 10), match='berry'>"
      ]
     },
     "execution_count": 123,
     "metadata": {},
     "output_type": "execute_result"
    }
   ],
   "source": [
    "import re\n",
    "\n",
    "pattern = r'berry' #Define the pattern you are looking for.\n",
    "reo = re.compile(r'berry') # compile the pattern into a regular expression object\n",
    "mo = reo.search('strawberry') # search for the pattern and return a match object\n",
    "mo"
   ]
  },
  {
   "cell_type": "markdown",
   "metadata": {},
   "source": [
    "The start and end positions of the match are in the \"span\" attribute:"
   ]
  },
  {
   "cell_type": "code",
   "execution_count": 124,
   "metadata": {
    "collapsed": false
   },
   "outputs": [
    {
     "data": {
      "text/plain": [
       "(5, 10)"
      ]
     },
     "execution_count": 124,
     "metadata": {},
     "output_type": "execute_result"
    }
   ],
   "source": [
    "mo.span()"
   ]
  },
  {
   "cell_type": "markdown",
   "metadata": {},
   "source": [
    "The match itself is in the \"group\" attribute, which I'll explain below."
   ]
  },
  {
   "cell_type": "code",
   "execution_count": 128,
   "metadata": {
    "collapsed": false
   },
   "outputs": [
    {
     "data": {
      "text/plain": [
       "'berry'"
      ]
     },
     "execution_count": 128,
     "metadata": {},
     "output_type": "execute_result"
    }
   ],
   "source": [
    "mo.group()"
   ]
  },
  {
   "cell_type": "markdown",
   "metadata": {},
   "source": [
    "If there is no match, the match object is null-valued (\"None\"). You can, more or less, use match objects in conditional statements, with null equalling \"False\" and any match resulting in \"True\"."
   ]
  },
  {
   "cell_type": "code",
   "execution_count": 130,
   "metadata": {
    "collapsed": false
   },
   "outputs": [],
   "source": [
    "reo = re.compile(r'berry')\n",
    "mo_miss = reo.search('apple')\n",
    "mo_miss"
   ]
  },
  {
   "cell_type": "code",
   "execution_count": 131,
   "metadata": {
    "collapsed": false
   },
   "outputs": [
    {
     "name": "stdout",
     "output_type": "stream",
     "text": [
      "None\n"
     ]
    }
   ],
   "source": [
    "print(mo_miss)"
   ]
  },
  {
   "cell_type": "code",
   "execution_count": 135,
   "metadata": {
    "collapsed": false
   },
   "outputs": [
    {
     "name": "stdout",
     "output_type": "stream",
     "text": [
      "Strawberry is a berry!\n"
     ]
    }
   ],
   "source": [
    "if mo:\n",
    "    print(\"Strawberry is a berry!\")\n",
    "else:\n",
    "    print(\"Strawberry is not a berry.\")"
   ]
  },
  {
   "cell_type": "code",
   "execution_count": 136,
   "metadata": {
    "collapsed": false
   },
   "outputs": [
    {
     "name": "stdout",
     "output_type": "stream",
     "text": [
      "Apple is not a berry.\n"
     ]
    }
   ],
   "source": [
    "if mo_miss:\n",
    "    print(\"Apple is a berry\")\n",
    "else:\n",
    "    print(\"Apple is not a berry.\")"
   ]
  },
  {
   "cell_type": "markdown",
   "metadata": {},
   "source": [
    "Which, again can be put in a list comprehension to get a list of all berries:"
   ]
  },
  {
   "cell_type": "code",
   "execution_count": 144,
   "metadata": {
    "collapsed": false
   },
   "outputs": [
    {
     "name": "stdout",
     "output_type": "stream",
     "text": [
      "['bilberry', 'blackberry', 'blueberry', 'boysenberry', 'cloudberry', 'cranberry', 'elderberry', 'goji berry', 'gooseberry', 'huckleberry', 'mulberry', 'raspberry', 'salal berry', 'strawberry']\n"
     ]
    }
   ],
   "source": [
    "berries = [itsaberry for itsaberry in fruit if reo.search(itsaberry)]\n",
    "print(berries)"
   ]
  },
  {
   "cell_type": "markdown",
   "metadata": {},
   "source": [
    "The \"search\" method will return a single object describing only the first match in the string."
   ]
  },
  {
   "cell_type": "code",
   "execution_count": 145,
   "metadata": {
    "collapsed": false
   },
   "outputs": [
    {
     "data": {
      "text/plain": [
       "<re.Match object; span=(0, 5), match='berry'>"
      ]
     },
     "execution_count": 145,
     "metadata": {},
     "output_type": "execute_result"
    }
   ],
   "source": [
    "mo_many = reo.search(\"berryberryboberrybananafanafoferrymemymomerry berry\")\n",
    "mo_many"
   ]
  },
  {
   "cell_type": "markdown",
   "metadata": {},
   "source": [
    "The findall method returns a list of all matching strings."
   ]
  },
  {
   "cell_type": "code",
   "execution_count": 146,
   "metadata": {
    "collapsed": false
   },
   "outputs": [
    {
     "data": {
      "text/plain": [
       "['berry', 'berry', 'berry', 'berry']"
      ]
     },
     "execution_count": 146,
     "metadata": {},
     "output_type": "execute_result"
    }
   ],
   "source": [
    "mo_many2 = reo.findall(\"berryberryboberrybananafanafoferrymemymomerry berry\")\n",
    "mo_many2"
   ]
  },
  {
   "cell_type": "markdown",
   "metadata": {},
   "source": [
    "The \"finditer\" method returns an \"iterator\" (thing, like a list, over which you can, um, iterate) containing match objects for every match."
   ]
  },
  {
   "cell_type": "code",
   "execution_count": 147,
   "metadata": {
    "collapsed": false
   },
   "outputs": [
    {
     "name": "stdout",
     "output_type": "stream",
     "text": [
      "<re.Match object; span=(0, 5), match='berry'>\n",
      "<re.Match object; span=(5, 10), match='berry'>\n",
      "<re.Match object; span=(12, 17), match='berry'>\n",
      "<re.Match object; span=(46, 51), match='berry'>\n"
     ]
    }
   ],
   "source": [
    "mo_iter = reo.finditer(\"berryberryboberrybananafanafoferrymemymomerry berry\")\n",
    "for moi in mo_iter:\n",
    "    print(moi)"
   ]
  },
  {
   "cell_type": "markdown",
   "metadata": {},
   "source": [
    "Now let's use regex to look for more complex patterns than just substrings.\n",
    "\n",
    "#### Square brackets for “or” (disjunction) of characters.\n",
    "\n",
    "Match “any one of” the characters in the square brackets."
   ]
  },
  {
   "cell_type": "code",
   "execution_count": 156,
   "metadata": {
    "collapsed": false
   },
   "outputs": [
    {
     "data": {
      "text/plain": [
       "['The heart beat strongly and with firm strokes.',\n",
       " 'Burn peat after the logs give out.',\n",
       " 'Feel the heat of the weak dying flame.',\n",
       " 'A speedy man can beat this track mark.',\n",
       " 'Even the worst will beat his low score.',\n",
       " 'It takes heat to bring out the odor.']"
      ]
     },
     "execution_count": 156,
     "metadata": {},
     "output_type": "execute_result"
    }
   ],
   "source": [
    "reodemo = re.compile(r' [bhp]eat ')\n",
    "matches = [itsamatch for itsamatch in sentences if reodemo.search(itsamatch)]\n",
    "matches"
   ]
  },
  {
   "cell_type": "markdown",
   "metadata": {},
   "source": [
    "#### Square brackets with ^ for negation.\n",
    "\n",
    "Match “anything but one of” the characters in the square brackets.\n",
    "\n",
    "(Be careful ... the carat ... ^ ... means something else in different context.)"
   ]
  },
  {
   "cell_type": "code",
   "execution_count": 157,
   "metadata": {
    "collapsed": false
   },
   "outputs": [
    {
     "data": {
      "text/plain": [
       "['Pack the records in a neat thin case.', 'A clean neck means a neat collar.']"
      ]
     },
     "execution_count": 157,
     "metadata": {},
     "output_type": "execute_result"
    }
   ],
   "source": [
    "reodemo = re.compile(r' [^bhp]eat ')\n",
    "matches = [itsamatch for itsamatch in sentences if reodemo.search(itsamatch)]\n",
    "matches"
   ]
  },
  {
   "cell_type": "markdown",
   "metadata": {},
   "source": [
    "#### Square brackets for “or” over a range of characters"
   ]
  },
  {
   "cell_type": "code",
   "execution_count": 158,
   "metadata": {
    "collapsed": false
   },
   "outputs": [
    {
     "data": {
      "text/plain": [
       "['The heart beat strongly and with firm strokes.',\n",
       " 'Burn peat after the logs give out.',\n",
       " 'Feel the heat of the weak dying flame.',\n",
       " 'A speedy man can beat this track mark.',\n",
       " 'Even the worst will beat his low score.',\n",
       " 'Pack the records in a neat thin case.',\n",
       " 'It takes heat to bring out the odor.',\n",
       " 'A clean neck means a neat collar.']"
      ]
     },
     "execution_count": 158,
     "metadata": {},
     "output_type": "execute_result"
    }
   ],
   "source": [
    "reodemo = re.compile(r' [b-p]eat ')\n",
    "matches = [itsamatch for itsamatch in sentences if reodemo.search(itsamatch)]\n",
    "matches"
   ]
  },
  {
   "cell_type": "markdown",
   "metadata": {},
   "source": [
    "#### Pipe operator for \"or\" over multi-character patterns\n",
    "\n",
    "When we need an “or” over multi-character patterns, we can use the “pipe” operator, using parentheses as necessary to identify what’s with what."
   ]
  },
  {
   "cell_type": "code",
   "execution_count": 159,
   "metadata": {
    "collapsed": false
   },
   "outputs": [
    {
     "data": {
      "text/plain": [
       "['blackberry', 'blackcurrant', 'blueberry', 'redcurrant']"
      ]
     },
     "execution_count": 159,
     "metadata": {},
     "output_type": "execute_result"
    }
   ],
   "source": [
    "reodemo = re.compile(r'(black|blue|red)(currant|berry)')\n",
    "matches = [itsamatch for itsamatch in fruit if reodemo.search(itsamatch)]\n",
    "matches"
   ]
  },
  {
   "cell_type": "markdown",
   "metadata": {},
   "source": [
    "#### Special characters and the backslash\n",
    "\n",
    "In addition to the backslash itself, there are several characters that have special meaning in Python regexes, and (may) have to be escaped in order to match the literal character. I think the full list is this: ^ $ . * + | ! ? ( ) [ ] { } < >.\n",
    "\n",
    "For example, the period – “.” – means “any character but a newline.” It’s a wildcard. We get different results when we escape or don’t escape it."
   ]
  },
  {
   "cell_type": "code",
   "execution_count": 161,
   "metadata": {
    "collapsed": false
   },
   "outputs": [
    {
     "name": "stdout",
     "output_type": "stream",
     "text": [
      "['E', 'x', 'a', 'm', 'p', 'l', 'e', ' ', 'S', 'T', 'R', 'I', 'N', 'G', ',', ' ', 'w', 'i', 't', 'h', ' ', 'n', 'u', 'm', 'b', 'e', 'r', 's', ' ', '(', '1', '2', ',', ' ', '1', '5', ' ', 'a', 'n', 'd', ' ', 'a', 'l', 's', 'o', ' ', '1', '0', '.', '2', ')', '?', '!', ' ', 'W', 'o', 'w', ',', ' ', 't', 'w', 'o', ' ', 's', 'e', 'n', 't', 'e', 'n', 'c', 'e', 's', '.']\n"
     ]
    }
   ],
   "source": [
    "reo_anychar = re.compile(r'.')\n",
    "allchars = reo_anychar.findall(combined_string)\n",
    "print(allchars)"
   ]
  },
  {
   "cell_type": "code",
   "execution_count": 162,
   "metadata": {
    "collapsed": false
   },
   "outputs": [
    {
     "name": "stdout",
     "output_type": "stream",
     "text": [
      "['.', '.']\n"
     ]
    }
   ],
   "source": [
    "reo_justperiod = re.compile(r'\\.')\n",
    "allperiods = reo_justperiod.findall(combined_string)\n",
    "print(allperiods)"
   ]
  },
  {
   "cell_type": "code",
   "execution_count": 165,
   "metadata": {
    "collapsed": false
   },
   "outputs": [
    {
     "name": "stdout",
     "output_type": "stream",
     "text": [
      "['am', 'an', 'al']\n"
     ]
    }
   ],
   "source": [
    "reodemo = re.compile(r'a.') # a followed by any character\n",
    "matches = reodemo.findall(combined_string)\n",
    "print(matches)"
   ]
  },
  {
   "cell_type": "code",
   "execution_count": 166,
   "metadata": {
    "collapsed": false
   },
   "outputs": [
    {
     "name": "stdout",
     "output_type": "stream",
     "text": [
      "[]\n"
     ]
    }
   ],
   "source": [
    "reodemo = re.compile(r'a\\.') # a followed by a period\n",
    "matches = reodemo.findall(combined_string)\n",
    "print(matches)"
   ]
  },
  {
   "cell_type": "markdown",
   "metadata": {},
   "source": [
    "Some of these are only special characters in certain contexts and don’t have to be escaped to be recognized when not in those contexts. But they can be escaped in all circumstances and I recommend that rather than trying to figure out the exact rules.\n",
    "\n",
    "The exclamation point is such a character."
   ]
  },
  {
   "cell_type": "code",
   "execution_count": 167,
   "metadata": {
    "collapsed": false
   },
   "outputs": [
    {
     "name": "stdout",
     "output_type": "stream",
     "text": [
      "['!']\n"
     ]
    }
   ],
   "source": [
    "reodemo = re.compile(r'\\!') # literal !\n",
    "matches = reodemo.findall(combined_string)\n",
    "print(matches)"
   ]
  },
  {
   "cell_type": "code",
   "execution_count": 169,
   "metadata": {
    "collapsed": false
   },
   "outputs": [
    {
     "name": "stdout",
     "output_type": "stream",
     "text": [
      "['!']\n"
     ]
    }
   ],
   "source": [
    "reodemo = re.compile(r'!') # special character ! isn't meaningful in this context so it assumes just !\n",
    "matches = reodemo.findall(combined_string)\n",
    "print(matches)"
   ]
  },
  {
   "cell_type": "markdown",
   "metadata": {},
   "source": [
    "#### Class shorthands\n",
    "\n",
    "Conversely, there are a number of characters that have special meaning only when escaped. The main ones for now are “\\w” (any alphanumeric character), “\\s” (any space character), and “\\d” (any numeric digit). The capitalized versions of these are used to mean “anything but” that class."
   ]
  },
  {
   "cell_type": "code",
   "execution_count": 170,
   "metadata": {
    "collapsed": false
   },
   "outputs": [
    {
     "name": "stdout",
     "output_type": "stream",
     "text": [
      "['E', 'x', 'a', 'm', 'p', 'l', 'e', 'S', 'T', 'R', 'I', 'N', 'G', 'w', 'i', 't', 'h', 'n', 'u', 'm', 'b', 'e', 'r', 's', '1', '2', '1', '5', 'a', 'n', 'd', 'a', 'l', 's', 'o', '1', '0', '2', 'W', 'o', 'w', 't', 'w', 'o', 's', 'e', 'n', 't', 'e', 'n', 'c', 'e', 's']\n"
     ]
    }
   ],
   "source": [
    "reodemo = re.compile(r'\\w') # any alphanumeric character\n",
    "matches = reodemo.findall(combined_string)\n",
    "print(matches)"
   ]
  },
  {
   "cell_type": "code",
   "execution_count": 171,
   "metadata": {
    "collapsed": false
   },
   "outputs": [
    {
     "name": "stdout",
     "output_type": "stream",
     "text": [
      "[' ', ',', ' ', ' ', ' ', '(', ',', ' ', ' ', ' ', ' ', '.', ')', '?', '!', ' ', ',', ' ', ' ', '.']\n"
     ]
    }
   ],
   "source": [
    "reodemo = re.compile(r'\\W') # any non-alphanumeric character\n",
    "matches = reodemo.findall(combined_string)\n",
    "print(matches)"
   ]
  },
  {
   "cell_type": "code",
   "execution_count": 172,
   "metadata": {
    "collapsed": false
   },
   "outputs": [
    {
     "name": "stdout",
     "output_type": "stream",
     "text": [
      "[' ', ' ', ' ', ' ', ' ', ' ', ' ', ' ', ' ', ' ', ' ']\n"
     ]
    }
   ],
   "source": [
    "reodemo = re.compile(r'\\s') # any whitespace character\n",
    "matches = reodemo.findall(combined_string)\n",
    "print(matches)"
   ]
  },
  {
   "cell_type": "code",
   "execution_count": 174,
   "metadata": {
    "collapsed": false
   },
   "outputs": [
    {
     "name": "stdout",
     "output_type": "stream",
     "text": [
      "['E', 'x', 'a', 'm', 'p', 'l', 'e', 'S', 'T', 'R', 'I', 'N', 'G', ',', 'w', 'i', 't', 'h', 'n', 'u', 'm', 'b', 'e', 'r', 's', '(', '1', '2', ',', '1', '5', 'a', 'n', 'd', 'a', 'l', 's', 'o', '1', '0', '.', '2', ')', '?', '!', 'W', 'o', 'w', ',', 't', 'w', 'o', 's', 'e', 'n', 't', 'e', 'n', 'c', 'e', 's', '.']\n"
     ]
    }
   ],
   "source": [
    "reodemo = re.compile(r'\\S') # any non-whitespace character\n",
    "matches = reodemo.findall(combined_string)\n",
    "print(matches)"
   ]
  },
  {
   "cell_type": "code",
   "execution_count": 175,
   "metadata": {
    "collapsed": false
   },
   "outputs": [
    {
     "name": "stdout",
     "output_type": "stream",
     "text": [
      "['1', '2', '1', '5', '1', '0', '2']\n"
     ]
    }
   ],
   "source": [
    "reodemo = re.compile(r'\\d') # any numeric digit\n",
    "matches = reodemo.findall(combined_string)\n",
    "print(matches)"
   ]
  },
  {
   "cell_type": "code",
   "execution_count": 176,
   "metadata": {
    "collapsed": false
   },
   "outputs": [
    {
     "name": "stdout",
     "output_type": "stream",
     "text": [
      "['E', 'x', 'a', 'm', 'p', 'l', 'e', ' ', 'S', 'T', 'R', 'I', 'N', 'G', ',', ' ', 'w', 'i', 't', 'h', ' ', 'n', 'u', 'm', 'b', 'e', 'r', 's', ' ', '(', ',', ' ', ' ', 'a', 'n', 'd', ' ', 'a', 'l', 's', 'o', ' ', '.', ')', '?', '!', ' ', 'W', 'o', 'w', ',', ' ', 't', 'w', 'o', ' ', 's', 'e', 'n', 't', 'e', 'n', 'c', 'e', 's', '.']\n"
     ]
    }
   ],
   "source": [
    "reodemo = re.compile(r'\\D') # any non-digit character\n",
    "matches = reodemo.findall(combined_string)\n",
    "print(matches)"
   ]
  },
  {
   "cell_type": "markdown",
   "metadata": {},
   "source": [
    "The Python re module does not directly support \"POSIX\" classes."
   ]
  },
  {
   "cell_type": "markdown",
   "metadata": {},
   "source": [
    "#### Quantifiers: * (zero or more of the previous)\n",
    "\n",
    "This is also known as the “Kleene star” (pronounced clean-ee), after its original user (Kleene) who introduced the notation in formal logic."
   ]
  },
  {
   "cell_type": "code",
   "execution_count": 178,
   "metadata": {
    "collapsed": false
   },
   "outputs": [
    {
     "name": "stdout",
     "output_type": "stream",
     "text": [
      "['', '', '', '', '', '', '', '', '', '', '', '', '', '', '', '', '', '', '', '', '', '', '', '', '', '', '', '', '', '', '12', '', '', '15', '', '', '', '', '', '', '', '', '', '', '10', '', '2', '', '', '', '', '', '', '', '', '', '', '', '', '', '', '', '', '', '', '', '', '', '', '', '']\n"
     ]
    }
   ],
   "source": [
    "reodemo = re.compile(r'\\d*') # any string of zero or more digits\n",
    "matches = reodemo.findall(combined_string)\n",
    "print(matches)"
   ]
  },
  {
   "cell_type": "markdown",
   "metadata": {},
   "source": [
    "Note the \"zero\" or more led it to identify every position of the string as a match, many of them empty (containing no characters).\n",
    "\n",
    "#### Quantifiers: + (one or more of the previous)\n",
    "\n",
    "This is also known as the “Kleene plus.”"
   ]
  },
  {
   "cell_type": "code",
   "execution_count": 179,
   "metadata": {
    "collapsed": false
   },
   "outputs": [
    {
     "name": "stdout",
     "output_type": "stream",
     "text": [
      "['12', '15', '10', '2']\n"
     ]
    }
   ],
   "source": [
    "reodemo = re.compile(r'\\d+') # any string of one or more digits\n",
    "matches = reodemo.findall(combined_string)\n",
    "print(matches)"
   ]
  },
  {
   "cell_type": "markdown",
   "metadata": {},
   "source": [
    "#### Quantifiers {n} {n,m} and {n,}\n",
    "\n",
    "{n} = “exactly n” of the previous\n",
    "{n,m} = “between n and m” of the previous\n",
    "{n,} = “n or more” of the previous"
   ]
  },
  {
   "cell_type": "code",
   "execution_count": 180,
   "metadata": {
    "collapsed": false
   },
   "outputs": [
    {
     "name": "stdout",
     "output_type": "stream",
     "text": [
      "['xxx', 'xxx', 'xxx']\n"
     ]
    }
   ],
   "source": [
    "reodemo = re.compile(r'x{3}') # 3 x's\n",
    "matches = reodemo.findall('x xx xxx xxxx xxxxx')\n",
    "print(matches)"
   ]
  },
  {
   "cell_type": "code",
   "execution_count": 181,
   "metadata": {
    "collapsed": false
   },
   "outputs": [
    {
     "name": "stdout",
     "output_type": "stream",
     "text": [
      "['xxx', 'xxxx', 'xxxx']\n"
     ]
    }
   ],
   "source": [
    "reodemo = re.compile(r'x{3,4}') # 3 or 4 x's\n",
    "matches = reodemo.findall('x xx xxx xxxx xxxxx')\n",
    "print(matches)"
   ]
  },
  {
   "cell_type": "code",
   "execution_count": 182,
   "metadata": {
    "collapsed": false
   },
   "outputs": [
    {
     "name": "stdout",
     "output_type": "stream",
     "text": [
      "['xxx', 'xxxx', 'xxxxx']\n"
     ]
    }
   ],
   "source": [
    "reodemo = re.compile(r'x{3,}') # 3 or more x's\n",
    "matches = reodemo.findall('x xx xxx xxxx xxxxx')\n",
    "print(matches)"
   ]
  },
  {
   "cell_type": "markdown",
   "metadata": {},
   "source": [
    "Were any of those unexpected? (Probably ... how many strings of 3 x's are in that string?) Use your regex viewer to see what's going on."
   ]
  },
  {
   "cell_type": "markdown",
   "metadata": {},
   "source": [
    "#### Quantifier ? (zero or one of the previous)"
   ]
  },
  {
   "cell_type": "code",
   "execution_count": 183,
   "metadata": {
    "collapsed": false
   },
   "outputs": [
    {
     "name": "stdout",
     "output_type": "stream",
     "text": [
      "['', '', '', '', '', '', '', '', '', '', '', '', '', '', '', '', '', '', '', '', '', '', '', '', '', '', '', '', '', '', '1', '2', '', '', '1', '5', '', '', '', '', '', '', '', '', '', '', '1', '0', '', '2', '', '', '', '', '', '', '', '', '', '', '', '', '', '', '', '', '', '', '', '', '', '', '', '']\n"
     ]
    }
   ],
   "source": [
    "reodemo = re.compile(r'\\d?') # any string of zero or one digits\n",
    "matches = reodemo.findall(combined_string)\n",
    "print(matches)"
   ]
  },
  {
   "cell_type": "code",
   "execution_count": 184,
   "metadata": {
    "collapsed": false
   },
   "outputs": [
    {
     "data": {
      "text/plain": [
       "['The heart beat strongly and with firm strokes.',\n",
       " 'Burn peat after the logs give out.',\n",
       " 'A speedy man can beat this track mark.',\n",
       " 'Even the worst will beat his low score.',\n",
       " 'Quench your thirst, then eat the crackers.']"
      ]
     },
     "execution_count": 184,
     "metadata": {},
     "output_type": "execute_result"
    }
   ],
   "source": [
    "reodemo = re.compile(r' [bp]?eat ')\n",
    "matches = [itsamatch for itsamatch in sentences if reodemo.search(itsamatch)]\n",
    "matches"
   ]
  },
  {
   "cell_type": "markdown",
   "metadata": {},
   "source": [
    "#### Question Mark as Nongreedy Modifier to Quantifier (smallest match of previous possible)\n"
   ]
  },
  {
   "cell_type": "code",
   "execution_count": 186,
   "metadata": {
    "collapsed": false
   },
   "outputs": [
    {
     "name": "stdout",
     "output_type": "stream",
     "text": [
      "['(First bracketed statement) Other text (Second bracketed statement)']\n"
     ]
    }
   ],
   "source": [
    "reodemo = re.compile(r'\\(.+\\)') # greedy - roughly, longest match\n",
    "matches = reodemo.findall('(First bracketed statement) Other text (Second bracketed statement)')\n",
    "print(matches)"
   ]
  },
  {
   "cell_type": "code",
   "execution_count": 187,
   "metadata": {
    "collapsed": false
   },
   "outputs": [
    {
     "name": "stdout",
     "output_type": "stream",
     "text": [
      "['(First bracketed statement)', '(Second bracketed statement)']\n"
     ]
    }
   ],
   "source": [
    "reodemo = re.compile(r'\\(.+?\\)') # nongreedy - roughly, smallest matches\n",
    "matches = reodemo.findall('(First bracketed statement) Other text (Second bracketed statement)')\n",
    "print(matches)"
   ]
  },
  {
   "cell_type": "code",
   "execution_count": 188,
   "metadata": {
    "collapsed": false
   },
   "outputs": [
    {
     "name": "stdout",
     "output_type": "stream",
     "text": [
      "['x xx xxx xxxx xxxxx']\n"
     ]
    }
   ],
   "source": [
    "reodemo = re.compile(r'x.+x') # greedy - matches whole string\n",
    "matches = reodemo.findall('x xx xxx xxxx xxxxx')\n",
    "print(matches)"
   ]
  },
  {
   "cell_type": "code",
   "execution_count": 189,
   "metadata": {
    "collapsed": false
   },
   "outputs": [
    {
     "name": "stdout",
     "output_type": "stream",
     "text": [
      "['x x', 'x x', 'xx x', 'xxx', 'xxx']\n"
     ]
    }
   ],
   "source": [
    "reodemo = re.compile(r'x.+?x') # nongreedy - minimal match as placeholder moves across string\n",
    "matches = reodemo.findall('x xx xxx xxxx xxxxx')\n",
    "print(matches)"
   ]
  },
  {
   "cell_type": "markdown",
   "metadata": {},
   "source": [
    "#### Anchors at beginning and end of string"
   ]
  },
  {
   "cell_type": "code",
   "execution_count": 190,
   "metadata": {
    "collapsed": false
   },
   "outputs": [
    {
     "name": "stdout",
     "output_type": "stream",
     "text": [
      "['Example']\n"
     ]
    }
   ],
   "source": [
    "reodemo = re.compile(r'^\\w+') # ^ is beginning of string\n",
    "matches = reodemo.findall(combined_string)\n",
    "print(matches)"
   ]
  },
  {
   "cell_type": "code",
   "execution_count": 191,
   "metadata": {
    "collapsed": false
   },
   "outputs": [
    {
     "name": "stdout",
     "output_type": "stream",
     "text": [
      "[]\n"
     ]
    }
   ],
   "source": [
    "reodemo = re.compile(r'\\w+$') # $ is end of string\n",
    "matches = reodemo.findall(combined_string)\n",
    "print(matches)"
   ]
  },
  {
   "cell_type": "code",
   "execution_count": 192,
   "metadata": {
    "collapsed": false
   },
   "outputs": [
    {
     "name": "stdout",
     "output_type": "stream",
     "text": [
      "['.']\n"
     ]
    }
   ],
   "source": [
    "reodemo = re.compile(r'\\W+$') # $ is end of string\n",
    "matches = reodemo.findall(combined_string)\n",
    "print(matches)"
   ]
  },
  {
   "cell_type": "markdown",
   "metadata": {},
   "source": [
    "#### Anchors at word boundaries"
   ]
  },
  {
   "cell_type": "markdown",
   "metadata": {},
   "source": [
    "Similarly, we can identify \"word boundaries\" with \\b. This solves the greedy/nongreedy problem we had with the ”x\" sequences above. It still thinks the decimal point in 10.2 is a word boundary, though."
   ]
  },
  {
   "cell_type": "code",
   "execution_count": 194,
   "metadata": {
    "collapsed": false
   },
   "outputs": [
    {
     "name": "stdout",
     "output_type": "stream",
     "text": [
      "['x', 'xx', 'xxx', 'xxxx', 'xxxxx']\n"
     ]
    }
   ],
   "source": [
    "reodemo = re.compile(r'\\bx.*?\\b') # \n",
    "matches = reodemo.findall('x xx xxx xxxx xxxxx')\n",
    "print(matches)"
   ]
  },
  {
   "cell_type": "code",
   "execution_count": 195,
   "metadata": {
    "collapsed": false
   },
   "outputs": [
    {
     "name": "stdout",
     "output_type": "stream",
     "text": [
      "['Example', 'STRING', 'with', 'numbers', '12', '15', 'and', 'also', '10', '2', 'Wow', 'two', 'sentences']\n"
     ]
    }
   ],
   "source": [
    "reodemo = re.compile(r'\\b\\w+?\\b') # still a little dumb\n",
    "matches = reodemo.findall(combined_string)\n",
    "print(matches)"
   ]
  },
  {
   "cell_type": "code",
   "execution_count": null,
   "metadata": {
    "collapsed": true
   },
   "outputs": [],
   "source": []
  }
 ],
 "metadata": {
  "anaconda-cloud": {},
  "kernelspec": {
   "display_name": "Python [conda env:textblobenv]",
   "language": "python",
   "name": "conda-env-textblobenv-py"
  },
  "language_info": {
   "codemirror_mode": {
    "name": "ipython",
    "version": 3
   },
   "file_extension": ".py",
   "mimetype": "text/x-python",
   "name": "python",
   "nbconvert_exporter": "python",
   "pygments_lexer": "ipython3",
   "version": "3.7.3"
  }
 },
 "nbformat": 4,
 "nbformat_minor": 1
}
